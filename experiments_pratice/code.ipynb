{
 "cells": [
  {
   "cell_type": "code",
   "execution_count": 11,
   "metadata": {},
   "outputs": [
    {
     "name": "stdout",
     "output_type": "stream",
     "text": [
      "Sentiment: neutral\n"
     ]
    }
   ],
   "source": [
    "from nltk.sentiment.vader import SentimentIntensityAnalyzer\n",
    "\n",
    "# initilaizing\n",
    "sid = SentimentIntensityAnalyzer()\n",
    "\n",
    "# Function to call this code\n",
    "def analyze_sentiment(text):\n",
    "    # perform sentiment analysis\n",
    "    sentiment_scores = sid.polarity_scores(text)\n",
    "\n",
    "    if sentiment_scores['compound'] >= 0.05:\n",
    "        return 'positive'\n",
    "    elif sentiment_scores['compound'] <= -0.05:\n",
    "        return 'negative'\n",
    "    else:\n",
    "        return 'neutral'\n",
    "\n",
    "#input\n",
    "text = input(\"Enter the text you want to analyze: \")\n",
    "\n",
    "sentiment = analyze_sentiment(text)\n",
    "print(\"Sentiment:\", sentiment)\n"
   ]
  }
 ],
 "metadata": {
  "kernelspec": {
   "display_name": "base",
   "language": "python",
   "name": "python3"
  },
  "language_info": {
   "name": "python",
   "version": "3.11.5"
  }
 },
 "nbformat": 4,
 "nbformat_minor": 2
}
